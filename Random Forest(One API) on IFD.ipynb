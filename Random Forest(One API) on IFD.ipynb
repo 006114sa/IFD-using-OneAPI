{
 "cells": [
  {
   "cell_type": "code",
   "execution_count": 451,
   "id": "e68a6a1c",
   "metadata": {},
   "outputs": [],
   "source": [
    "#Decision forest of OneAPI on Insurance Fraud Detection dataset"
   ]
  },
  {
   "cell_type": "code",
   "execution_count": 355,
   "id": "69b45944",
   "metadata": {},
   "outputs": [],
   "source": [
    "import daal4py as d4p\n",
    "import numpy as np\n",
    "import pandas "
   ]
  },
  {
   "cell_type": "code",
   "execution_count": 356,
   "id": "30b989bc",
   "metadata": {},
   "outputs": [],
   "source": [
    "read_csv = pandas.read_csv(\"Module 11\\\\[Dataset]_Module11_(Insurance).csv\")"
   ]
  },
  {
   "cell_type": "code",
   "execution_count": 357,
   "id": "75ea130b",
   "metadata": {},
   "outputs": [],
   "source": [
    "features = []\n",
    "for col in read_csv.columns:\n",
    "    if col != 'fraud_reported':\n",
    "        features.append(col)\n",
    "\n",
    "target = 'fraud_reported'\n",
    "\n",
    "X = read_csv[features]\n",
    "y = read_csv[target]"
   ]
  },
  {
   "cell_type": "code",
   "execution_count": 358,
   "id": "353202e3",
   "metadata": {},
   "outputs": [],
   "source": [
    "#Syntax: X_train, X_test, y_train, y_test = train_test_split()\n",
    "from sklearn.model_selection import train_test_split\n",
    "data, prunedata, labels, prunelabels = train_test_split(X, y, random_state = 1)"
   ]
  },
  {
   "cell_type": "code",
   "execution_count": 359,
   "id": "737557ab",
   "metadata": {},
   "outputs": [],
   "source": [
    "# Lets configure a training object (5 classes)\n",
    "train_algo = d4p.decision_forest_classification_training(5,\n",
    "                                                         nTrees=10,\n",
    "                                                         minObservationsInLeafNode=8,\n",
    "                                                         featuresPerNode=3,\n",
    "                                                         engine = d4p.engines_mt19937(seed=777),\n",
    "                                                         varImportance='MDI',\n",
    "                                                         bootstrap=True,\n",
    "                                                         resultsToCompute='computeOutOfBagError')"
   ]
  },
  {
   "cell_type": "code",
   "execution_count": 360,
   "id": "fb0c5133",
   "metadata": {},
   "outputs": [],
   "source": [
    "train_result = train_algo.compute(data, labels)"
   ]
  },
  {
   "cell_type": "code",
   "execution_count": 361,
   "id": "f44eac1a",
   "metadata": {},
   "outputs": [],
   "source": [
    "predict_algo = d4p.decision_forest_classification_prediction(nClasses=5)\n",
    "predict_result = predict_algo.compute(prunedata, train_result.model)\n",
    "assert(predict_result.prediction.shape == (prunedata.shape[0], 1))\n",
    "#We pass x_test(prunedata here) in predict_result "
   ]
  },
  {
   "cell_type": "code",
   "execution_count": 362,
   "id": "67cc25ec",
   "metadata": {},
   "outputs": [
    {
     "name": "stdout",
     "output_type": "stream",
     "text": [
      "\n",
      "Random forest prediction results (first 10 rows):\n",
      " [[0.]\n",
      " [0.]\n",
      " [0.]\n",
      " [0.]\n",
      " [0.]\n",
      " [0.]\n",
      " [0.]\n",
      " [0.]\n",
      " [0.]\n",
      " [0.]]\n",
      "\n",
      "Ground truth (first 10 rows):\n",
      " 507    0\n",
      "818    0\n",
      "452    0\n",
      "368    1\n",
      "242    0\n",
      "929    1\n",
      "262    1\n",
      "810    0\n",
      "318    0\n",
      "49     0\n",
      "Name: fraud_reported, dtype: int64\n"
     ]
    }
   ],
   "source": [
    "#And then we compare y_pred(predict_result.prediction here) with y_test(prunelabels here)\n",
    "print(\"\\nRandom forest prediction results (first 10 rows):\\n\", predict_result.prediction[0:10])\n",
    "print(\"\\nGround truth (first 10 rows):\\n\", prunelabels[0:10])"
   ]
  },
  {
   "cell_type": "code",
   "execution_count": 363,
   "id": "8aa49fa0",
   "metadata": {},
   "outputs": [],
   "source": [
    "from sklearn.metrics import confusion_matrix, classification_report\n",
    "a = predict_result.prediction.reshape(-1)\n",
    "b = prunelabels"
   ]
  },
  {
   "cell_type": "code",
   "execution_count": 364,
   "id": "69e2dad3",
   "metadata": {},
   "outputs": [
    {
     "data": {
      "text/plain": [
       "array([[178,   2],\n",
       "       [ 59,  11]], dtype=int64)"
      ]
     },
     "execution_count": 364,
     "metadata": {},
     "output_type": "execute_result"
    }
   ],
   "source": [
    "confusion_matrix(b,a)"
   ]
  },
  {
   "cell_type": "code",
   "execution_count": 365,
   "id": "efbe8dcf",
   "metadata": {},
   "outputs": [
    {
     "name": "stdout",
     "output_type": "stream",
     "text": [
      "              precision    recall  f1-score   support\n",
      "\n",
      "           0       0.75      0.99      0.85       180\n",
      "           1       0.85      0.16      0.27        70\n",
      "\n",
      "    accuracy                           0.76       250\n",
      "   macro avg       0.80      0.57      0.56       250\n",
      "weighted avg       0.78      0.76      0.69       250\n",
      "\n"
     ]
    }
   ],
   "source": [
    "print(classification_report(b,a))"
   ]
  }
 ],
 "metadata": {
  "kernelspec": {
   "display_name": "Python 3 (ipykernel)",
   "language": "python",
   "name": "python3"
  },
  "language_info": {
   "codemirror_mode": {
    "name": "ipython",
    "version": 3
   },
   "file_extension": ".py",
   "mimetype": "text/x-python",
   "name": "python",
   "nbconvert_exporter": "python",
   "pygments_lexer": "ipython3",
   "version": "3.11.5"
  }
 },
 "nbformat": 4,
 "nbformat_minor": 5
}
