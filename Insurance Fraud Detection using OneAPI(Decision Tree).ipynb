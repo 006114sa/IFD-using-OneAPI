{
 "cells": [
  {
   "cell_type": "code",
   "execution_count": 1,
   "id": "4a919e88",
   "metadata": {},
   "outputs": [],
   "source": [
    "import daal4py as d4p\n",
    "import numpy as np\n",
    "import pandas "
   ]
  },
  {
   "cell_type": "code",
   "execution_count": 2,
   "id": "c6316da9",
   "metadata": {},
   "outputs": [],
   "source": [
    "read_csv = pandas.read_csv(\"[Dataset]_Module11_(Insurance).csv\")"
   ]
  },
  {
   "cell_type": "code",
   "execution_count": 3,
   "id": "4beaa9ff",
   "metadata": {},
   "outputs": [],
   "source": [
    "features = []\n",
    "for col in read_csv.columns:\n",
    "    if col != 'fraud_reported':\n",
    "        features.append(col)\n",
    "\n",
    "target = 'fraud_reported'\n",
    "\n",
    "X = read_csv[features]\n",
    "y = read_csv[target]"
   ]
  },
  {
   "cell_type": "code",
   "execution_count": 4,
   "id": "b8df4bbf",
   "metadata": {},
   "outputs": [],
   "source": [
    "#Syntax: X_train, X_test, y_train, y_test = train_test_split()\n",
    "from sklearn.model_selection import train_test_split\n",
    "data, prunedata, labels, prunelabels = train_test_split(X, y, random_state = 1)"
   ]
  },
  {
   "cell_type": "code",
   "execution_count": 5,
   "id": "4a5d9677",
   "metadata": {},
   "outputs": [],
   "source": [
    "#Here,\n",
    "#X_train = data\n",
    "#y_train = labels\n",
    "#X_test = prunedata\n",
    "#y_test = prunelabels"
   ]
  },
  {
   "cell_type": "code",
   "execution_count": 6,
   "id": "4a8f46cd",
   "metadata": {},
   "outputs": [],
   "source": [
    "train_algo = d4p.decision_tree_classification_training(2)"
   ]
  },
  {
   "cell_type": "code",
   "execution_count": 7,
   "id": "fb4337dc",
   "metadata": {},
   "outputs": [],
   "source": [
    "train_result = train_algo.compute(data, labels, prunedata, prunelabels)"
   ]
  },
  {
   "cell_type": "code",
   "execution_count": 8,
   "id": "d699cba2",
   "metadata": {},
   "outputs": [],
   "source": [
    "predict_algo = d4p.decision_tree_classification_prediction()\n",
    "\n",
    "predict_result = predict_algo.compute(prunedata, train_result.model)  #We pass X_test in predict_result (X_test = prunedata)"
   ]
  },
  {
   "cell_type": "code",
   "execution_count": 9,
   "id": "ca653b4a",
   "metadata": {},
   "outputs": [
    {
     "name": "stdout",
     "output_type": "stream",
     "text": [
      "\n",
      "Decision tree prediction results (first 10 rows):\n",
      " [[0.]\n",
      " [0.]\n",
      " [0.]\n",
      " [0.]\n",
      " [0.]\n",
      " [1.]\n",
      " [0.]\n",
      " [0.]\n",
      " [0.]\n",
      " [0.]]\n",
      "\n",
      "Ground truth (first 10 rows):\n",
      " 507    0\n",
      "818    0\n",
      "452    0\n",
      "368    1\n",
      "242    0\n",
      "929    1\n",
      "262    1\n",
      "810    0\n",
      "318    0\n",
      "49     0\n",
      "Name: fraud_reported, dtype: int64\n"
     ]
    }
   ],
   "source": [
    "print(\"\\nDecision tree prediction results (first 10 rows):\\n\", predict_result.prediction[0:10])\n",
    "print(\"\\nGround truth (first 10 rows):\\n\", prunelabels[0:10])"
   ]
  },
  {
   "cell_type": "code",
   "execution_count": 10,
   "id": "5080f15d",
   "metadata": {},
   "outputs": [],
   "source": [
    "from sklearn.metrics import confusion_matrix, classification_report\n",
    "a = predict_result.prediction.reshape(-1) ##y_pred\n",
    "b = prunelabels  #y_test"
   ]
  },
  {
   "cell_type": "code",
   "execution_count": 11,
   "id": "8b11a81f",
   "metadata": {},
   "outputs": [
    {
     "data": {
      "text/plain": [
       "array([[168,  12],\n",
       "       [ 11,  59]], dtype=int64)"
      ]
     },
     "execution_count": 11,
     "metadata": {},
     "output_type": "execute_result"
    }
   ],
   "source": [
    "confusion_matrix(b,a)"
   ]
  },
  {
   "cell_type": "code",
   "execution_count": 12,
   "id": "5490ef09",
   "metadata": {},
   "outputs": [
    {
     "name": "stdout",
     "output_type": "stream",
     "text": [
      "              precision    recall  f1-score   support\n",
      "\n",
      "           0       0.94      0.93      0.94       180\n",
      "           1       0.83      0.84      0.84        70\n",
      "\n",
      "    accuracy                           0.91       250\n",
      "   macro avg       0.88      0.89      0.89       250\n",
      "weighted avg       0.91      0.91      0.91       250\n",
      "\n"
     ]
    }
   ],
   "source": [
    "print(classification_report(b,a))"
   ]
  },
  {
   "cell_type": "code",
   "execution_count": null,
   "id": "6b91175c",
   "metadata": {},
   "outputs": [],
   "source": []
  }
 ],
 "metadata": {
  "kernelspec": {
   "display_name": "Python 3 (ipykernel)",
   "language": "python",
   "name": "python3"
  },
  "language_info": {
   "codemirror_mode": {
    "name": "ipython",
    "version": 3
   },
   "file_extension": ".py",
   "mimetype": "text/x-python",
   "name": "python",
   "nbconvert_exporter": "python",
   "pygments_lexer": "ipython3",
   "version": "3.11.5"
  }
 },
 "nbformat": 4,
 "nbformat_minor": 5
}
