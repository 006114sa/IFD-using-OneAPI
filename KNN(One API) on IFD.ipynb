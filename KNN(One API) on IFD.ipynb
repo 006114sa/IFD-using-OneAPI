{
 "cells": [
  {
   "cell_type": "code",
   "execution_count": 403,
   "id": "c93d5f07",
   "metadata": {},
   "outputs": [],
   "source": [
    "#kNN of OneAPI on Insurance Fraud Detection dataset"
   ]
  },
  {
   "cell_type": "code",
   "execution_count": 440,
   "id": "da0e1ecb",
   "metadata": {},
   "outputs": [],
   "source": [
    "import daal4py as d4p\n",
    "import numpy as np\n",
    "import pandas "
   ]
  },
  {
   "cell_type": "code",
   "execution_count": 441,
   "id": "e2528057",
   "metadata": {},
   "outputs": [],
   "source": [
    "read_csv = pandas.read_csv(\"C:\\\\Users\\\\INDIA AI DATA LAB\\\\Downloads\\\\AIDA-Course\\\\AIDA-Course\\\\Module 11\\\\[Dataset]_Module11_(Insurance).csv\")"
   ]
  },
  {
   "cell_type": "code",
   "execution_count": 442,
   "id": "7a9e95f7",
   "metadata": {},
   "outputs": [],
   "source": [
    "features = []\n",
    "for col in read_csv.columns:\n",
    "    if col != 'fraud_reported':\n",
    "        features.append(col)\n",
    "\n",
    "target = 'fraud_reported'\n",
    "\n",
    "X = read_csv[features]\n",
    "y = read_csv[target]"
   ]
  },
  {
   "cell_type": "code",
   "execution_count": 443,
   "id": "2bc4bc33",
   "metadata": {},
   "outputs": [],
   "source": [
    "#Syntax: X_train, X_test, y_train, y_test = train_test_split()\n",
    "from sklearn.model_selection import train_test_split\n",
    "data, prunedata, labels, prunelabels = train_test_split(X, y, random_state = 1)"
   ]
  },
  {
   "cell_type": "code",
   "execution_count": 444,
   "id": "cf3966e8",
   "metadata": {},
   "outputs": [],
   "source": [
    "nFeatures = 2\n",
    "nClasses = 2"
   ]
  },
  {
   "cell_type": "code",
   "execution_count": 445,
   "id": "1a8b458f",
   "metadata": {},
   "outputs": [],
   "source": [
    "train_algo = d4p.kdtree_knn_classification_training(nClasses=nClasses)\n",
    "#weights = np.ones((data.shape[0], 1))\n",
    "train_result = train_algo.compute(data, labels)"
   ]
  },
  {
   "cell_type": "code",
   "execution_count": 446,
   "id": "9cf8f366",
   "metadata": {},
   "outputs": [],
   "source": [
    "predict_algo = d4p.kdtree_knn_classification_prediction(nClasses=nClasses)\n",
    "predict_result = predict_algo.compute(prunedata, train_result.model)"
   ]
  },
  {
   "cell_type": "code",
   "execution_count": 447,
   "id": "94ab86f0",
   "metadata": {},
   "outputs": [
    {
     "name": "stdout",
     "output_type": "stream",
     "text": [
      "kNN classification results:\n",
      "Ground truth(observations #13-14):\n",
      " 345    0\n",
      "971    0\n",
      "Name: fraud_reported, dtype: int64\n",
      "Classification results(observations #13-14):\n",
      " [[0.]\n",
      " [0.]]\n"
     ]
    }
   ],
   "source": [
    "print(\"kNN classification results:\")\n",
    "print(\"Ground truth(observations #13-14):\\n\", prunelabels[13:15])\n",
    "print(\"Classification results(observations #13-14):\\n\", predict_result.prediction[13:15])"
   ]
  },
  {
   "cell_type": "code",
   "execution_count": 448,
   "id": "2fe92bb2",
   "metadata": {},
   "outputs": [],
   "source": [
    "from sklearn.metrics import confusion_matrix, classification_report\n",
    "#a = predict_result.prediction.reshape(-1)\n",
    "a = predict_result.prediction  #Here, result is same without reshape too, check how?\n",
    "b = prunelabels"
   ]
  },
  {
   "cell_type": "code",
   "execution_count": 449,
   "id": "d787ea3d",
   "metadata": {},
   "outputs": [
    {
     "data": {
      "text/plain": [
       "array([[143,  37],\n",
       "       [ 60,  10]], dtype=int64)"
      ]
     },
     "execution_count": 449,
     "metadata": {},
     "output_type": "execute_result"
    }
   ],
   "source": [
    "confusion_matrix(b,a)"
   ]
  },
  {
   "cell_type": "code",
   "execution_count": 450,
   "id": "74af69aa",
   "metadata": {},
   "outputs": [
    {
     "name": "stdout",
     "output_type": "stream",
     "text": [
      "              precision    recall  f1-score   support\n",
      "\n",
      "           0       0.70      0.79      0.75       180\n",
      "           1       0.21      0.14      0.17        70\n",
      "\n",
      "    accuracy                           0.61       250\n",
      "   macro avg       0.46      0.47      0.46       250\n",
      "weighted avg       0.57      0.61      0.59       250\n",
      "\n"
     ]
    }
   ],
   "source": [
    "print(classification_report(b,a))"
   ]
  }
 ],
 "metadata": {
  "kernelspec": {
   "display_name": "Python 3 (ipykernel)",
   "language": "python",
   "name": "python3"
  },
  "language_info": {
   "codemirror_mode": {
    "name": "ipython",
    "version": 3
   },
   "file_extension": ".py",
   "mimetype": "text/x-python",
   "name": "python",
   "nbconvert_exporter": "python",
   "pygments_lexer": "ipython3",
   "version": "3.11.5"
  }
 },
 "nbformat": 4,
 "nbformat_minor": 5
}
