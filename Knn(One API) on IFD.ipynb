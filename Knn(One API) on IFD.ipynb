{
 "cells": [
  {
   "cell_type": "code",
   "execution_count": null,
   "id": "20d526c6-ab9e-4b57-8d83-f47d6eb32e53",
   "metadata": {
    "tags": []
   },
   "outputs": [],
   "source": [
    "#kNN of OneAPI on Insurance Fraud Detection dataset"
   ]
  },
  {
   "cell_type": "code",
   "execution_count": null,
   "id": "a87108d4-7b94-4ce0-a8a6-074ef57585f0",
   "metadata": {},
   "outputs": [],
   "source": [
    "import daal4py as d4p\n",
    "import numpy as np\n",
    "import pandas "
   ]
  },
  {
   "cell_type": "code",
   "execution_count": null,
   "id": "8ce07cde-818f-412a-b1aa-2fb45719e58a",
   "metadata": {},
   "outputs": [],
   "source": [
    "read_csv = pandas.read_csv(\"[Dataset]_Module11_(Insurance).csv\")"
   ]
  },
  {
   "cell_type": "code",
   "execution_count": null,
   "id": "cf1efce5-1327-4f4d-8784-9971868575d2",
   "metadata": {},
   "outputs": [],
   "source": [
    "features = []\n",
    "for col in read_csv.columns:\n",
    "    if col != 'fraud_reported':\n",
    "        features.append(col)\n",
    "\n",
    "target = 'fraud_reported'\n",
    "\n",
    "X = read_csv[features]\n",
    "y = read_csv[target]"
   ]
  },
  {
   "cell_type": "code",
   "execution_count": null,
   "id": "1079d798-9e6d-4327-a8dd-f034a8d4f767",
   "metadata": {},
   "outputs": [],
   "source": [
    "#Syntax: X_train, X_test, y_train, y_test = train_test_split()\n",
    "from sklearn.model_selection import train_test_split\n",
    "data, prunedata, labels, prunelabels = train_test_split(X, y, random_state = 1)"
   ]
  },
  {
   "cell_type": "code",
   "execution_count": null,
   "id": "b1ba815f-003f-442b-8ff9-e8e53658e8a1",
   "metadata": {},
   "outputs": [],
   "source": [
    "nFeatures = 2\n",
    "nClasses = 2"
   ]
  },
  {
   "cell_type": "code",
   "execution_count": null,
   "id": "1f509d26-ca11-430c-a2e8-a3f7c27a47ad",
   "metadata": {},
   "outputs": [],
   "source": [
    "train_algo = d4p.kdtree_knn_classification_training(nClasses=nClasses)\n",
    "#weights = np.ones((data.shape[0], 1))\n",
    "train_result = train_algo.compute(data, labels)"
   ]
  },
  {
   "cell_type": "code",
   "execution_count": null,
   "id": "190646ed-b6fe-4fa1-9d01-33350a1eb537",
   "metadata": {},
   "outputs": [],
   "source": [
    "predict_algo = d4p.kdtree_knn_classification_prediction(nClasses=nClasses)\n",
    "predict_result = predict_algo.compute(prunedata, train_result.model)"
   ]
  },
  {
   "cell_type": "code",
   "execution_count": null,
   "id": "f8e53583-ddcf-487a-8f1d-405880a51cd2",
   "metadata": {},
   "outputs": [],
   "source": [
    "print(\"kNN classification results:\")\n",
    "print(\"Ground truth(observations #13-14):\\n\", prunelabels[13:15])\n",
    "print(\"Classification results(observations #13-14):\\n\", predict_result.prediction[13:15])"
   ]
  },
  {
   "cell_type": "code",
   "execution_count": null,
   "id": "b5cc2de4-9733-42d5-b1c2-c344367c2207",
   "metadata": {},
   "outputs": [],
   "source": []
  }
 ],
 "metadata": {
  "kernelspec": {
   "display_name": "Python 3 (ipykernel)",
   "language": "python",
   "name": "python3"
  },
  "language_info": {
   "codemirror_mode": {
    "name": "ipython",
    "version": 3
   },
   "file_extension": ".py",
   "mimetype": "text/x-python",
   "name": "python",
   "nbconvert_exporter": "python",
   "pygments_lexer": "ipython3",
   "version": "3.11.5"
  }
 },
 "nbformat": 4,
 "nbformat_minor": 5
}
