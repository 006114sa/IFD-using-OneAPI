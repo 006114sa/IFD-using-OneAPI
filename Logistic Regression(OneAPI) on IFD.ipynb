{
 "cells": [
  {
   "cell_type": "code",
   "execution_count": null,
   "id": "08905ace",
   "metadata": {},
   "outputs": [],
   "source": [
    "#Logistic Regression of OneAPI on Insurance fraud detection dataset"
   ]
  },
  {
   "cell_type": "code",
   "execution_count": 472,
   "id": "42362f0f",
   "metadata": {},
   "outputs": [],
   "source": [
    "import daal4py as d4p\n",
    "import pandas"
   ]
  },
  {
   "cell_type": "code",
   "execution_count": 474,
   "id": "442b607f",
   "metadata": {},
   "outputs": [],
   "source": [
    "read_csv = pandas.read_csv(\"Module 11\\\\[Dataset]_Module11_(Insurance).csv\")"
   ]
  },
  {
   "cell_type": "code",
   "execution_count": 475,
   "id": "5a555e62",
   "metadata": {},
   "outputs": [],
   "source": [
    "features = []\n",
    "for col in read_csv:\n",
    "    if col != 'fraud_reported':\n",
    "        features.append(col)\n",
    "\n",
    "target = 'fraud_reported'\n",
    "\n",
    "X = read_csv[features]\n",
    "y = read_csv[target]"
   ]
  },
  {
   "cell_type": "code",
   "execution_count": 476,
   "id": "84316093",
   "metadata": {},
   "outputs": [],
   "source": [
    "from sklearn.model_selection import train_test_split\n",
    "data, prunedata, labels, prunelabels = train_test_split(X, y, random_state = 1) "
   ]
  },
  {
   "cell_type": "code",
   "execution_count": 481,
   "id": "03606351",
   "metadata": {},
   "outputs": [],
   "source": [
    "train_algo = d4p.logistic_regression_training(2)\n",
    "train_result = train_algo.compute(data,labels)"
   ]
  },
  {
   "cell_type": "code",
   "execution_count": 482,
   "id": "aaf437c5",
   "metadata": {},
   "outputs": [],
   "source": [
    "predict_algo = d4p.logistic_regression_prediction(2)\n",
    "predict_result = predict_algo.compute(prunedata, train_result.model)"
   ]
  },
  {
   "cell_type": "code",
   "execution_count": 490,
   "id": "bc739db7",
   "metadata": {},
   "outputs": [
    {
     "name": "stdout",
     "output_type": "stream",
     "text": [
      "\n",
      "Logistic Regression prediction results (first 10 rows):\n",
      " [[0.]\n",
      " [0.]\n",
      " [0.]\n",
      " [0.]\n",
      " [0.]\n",
      " [0.]\n",
      " [0.]\n",
      " [0.]\n",
      " [0.]\n",
      " [0.]]\n",
      "\n",
      "Ground truth (first 10 rows):\n",
      " 507    0\n",
      "818    0\n",
      "452    0\n",
      "368    1\n",
      "242    0\n",
      "929    1\n",
      "262    1\n",
      "810    0\n",
      "318    0\n",
      "49     0\n",
      "Name: fraud_reported, dtype: int64\n"
     ]
    }
   ],
   "source": [
    "print(\"\\nLogistic Regression prediction results (first 10 rows):\\n\", predict_result.prediction[0:10])  \n",
    "print(\"\\nGround truth (first 10 rows):\\n\", prunelabels[0:10])"
   ]
  },
  {
   "cell_type": "code",
   "execution_count": 487,
   "id": "c3ecf899",
   "metadata": {},
   "outputs": [],
   "source": [
    "from sklearn.metrics import confusion_matrix, classification_report\n",
    "a = predict_result.prediction #y_pred\n",
    "b = prunelabels #y_test"
   ]
  },
  {
   "cell_type": "code",
   "execution_count": 488,
   "id": "98191ec6",
   "metadata": {},
   "outputs": [
    {
     "data": {
      "text/plain": [
       "array([[167,  13],\n",
       "       [ 67,   3]], dtype=int64)"
      ]
     },
     "execution_count": 488,
     "metadata": {},
     "output_type": "execute_result"
    }
   ],
   "source": [
    "confusion_matrix(b,a)"
   ]
  },
  {
   "cell_type": "code",
   "execution_count": 489,
   "id": "83160982",
   "metadata": {},
   "outputs": [
    {
     "name": "stdout",
     "output_type": "stream",
     "text": [
      "              precision    recall  f1-score   support\n",
      "\n",
      "           0       0.71      0.93      0.81       180\n",
      "           1       0.19      0.04      0.07        70\n",
      "\n",
      "    accuracy                           0.68       250\n",
      "   macro avg       0.45      0.49      0.44       250\n",
      "weighted avg       0.57      0.68      0.60       250\n",
      "\n"
     ]
    }
   ],
   "source": [
    "print(classification_report(b,a))"
   ]
  }
 ],
 "metadata": {
  "kernelspec": {
   "display_name": "Python 3 (ipykernel)",
   "language": "python",
   "name": "python3"
  },
  "language_info": {
   "codemirror_mode": {
    "name": "ipython",
    "version": 3
   },
   "file_extension": ".py",
   "mimetype": "text/x-python",
   "name": "python",
   "nbconvert_exporter": "python",
   "pygments_lexer": "ipython3",
   "version": "3.11.5"
  }
 },
 "nbformat": 4,
 "nbformat_minor": 5
}
