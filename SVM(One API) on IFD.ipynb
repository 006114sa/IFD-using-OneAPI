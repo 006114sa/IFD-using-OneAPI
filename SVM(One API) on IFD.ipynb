{
 "cells": [
  {
   "cell_type": "code",
   "execution_count": 366,
   "id": "79959fcf",
   "metadata": {},
   "outputs": [],
   "source": [
    "#SVM of OneAPI on Insurance fraud detection dataset "
   ]
  },
  {
   "cell_type": "code",
   "execution_count": 367,
   "id": "88759ff5",
   "metadata": {},
   "outputs": [],
   "source": [
    "import daal4py as d4p \n",
    "import numpy as np\n",
    "import pandas "
   ]
  },
  {
   "cell_type": "code",
   "execution_count": 368,
   "id": "3f40cf54",
   "metadata": {},
   "outputs": [],
   "source": [
    "read_csv = pandas.read_csv(\"C:\\\\Users\\\\INDIA AI DATA LAB\\\\Downloads\\\\AIDA-Course\\\\AIDA-Course\\\\Module 11\\\\[Dataset]_Module11_(Insurance).csv\")"
   ]
  },
  {
   "cell_type": "code",
   "execution_count": 369,
   "id": "cdeba7e4",
   "metadata": {},
   "outputs": [],
   "source": [
    "features = []\n",
    "for i in read_csv.columns:\n",
    "    if i != 'fraud_reported':\n",
    "        features.append(i)\n",
    "\n",
    "target = 'fraud_reported'\n",
    "X = read_csv[features]\n",
    "y = read_csv[target]    \n"
   ]
  },
  {
   "cell_type": "code",
   "execution_count": 370,
   "id": "1cc1e666",
   "metadata": {},
   "outputs": [],
   "source": [
    "y[y==0] = -1    #Changing all 0 values to 1 as svm can only distinguish bw -1 and 1 labels"
   ]
  },
  {
   "cell_type": "code",
   "execution_count": 371,
   "id": "d75f93d9",
   "metadata": {},
   "outputs": [
    {
     "data": {
      "text/plain": [
       "fraud_reported\n",
       "-1    753\n",
       " 1    247\n",
       "Name: count, dtype: int64"
      ]
     },
     "execution_count": 371,
     "metadata": {},
     "output_type": "execute_result"
    }
   ],
   "source": [
    "y.value_counts()"
   ]
  },
  {
   "cell_type": "code",
   "execution_count": 372,
   "id": "fbfbe13f",
   "metadata": {},
   "outputs": [],
   "source": [
    "from sklearn.model_selection import train_test_split\n",
    "data, prunedata, labels, prunelabels = train_test_split(X, y, random_state = 1)"
   ]
  },
  {
   "cell_type": "code",
   "execution_count": 373,
   "id": "7728c86a",
   "metadata": {},
   "outputs": [],
   "source": [
    "train_algo = d4p.svm_training()"
   ]
  },
  {
   "cell_type": "code",
   "execution_count": 374,
   "id": "21046850",
   "metadata": {},
   "outputs": [],
   "source": [
    "train_result = train_algo.compute(data, labels)"
   ]
  },
  {
   "cell_type": "code",
   "execution_count": 375,
   "id": "eff6a739",
   "metadata": {},
   "outputs": [],
   "source": [
    "predict_algo = d4p.svm_prediction()"
   ]
  },
  {
   "cell_type": "code",
   "execution_count": 376,
   "id": "9f933e97",
   "metadata": {},
   "outputs": [],
   "source": [
    "predict_result =predict_algo.compute(prunedata, train_result.model) "
   ]
  },
  {
   "cell_type": "code",
   "execution_count": 377,
   "id": "182e984f",
   "metadata": {},
   "outputs": [],
   "source": [
    "#assert(predict_result.prediction.shape == (prunedata.shape[0], 1))"
   ]
  },
  {
   "cell_type": "code",
   "execution_count": 378,
   "id": "d3f6ad84",
   "metadata": {},
   "outputs": [
    {
     "name": "stdout",
     "output_type": "stream",
     "text": [
      "\n",
      "Support Vector Machine prediction results (first 10 rows):\n",
      " [[-1.30911009]\n",
      " [-1.21683948]\n",
      " [-1.96909834]\n",
      " [-1.12062208]\n",
      " [-2.13948189]\n",
      " [-0.48394354]\n",
      " [ 0.91034205]\n",
      " [-1.81697164]\n",
      " [-0.07427428]\n",
      " [ 0.50070007]]\n",
      "\n",
      "Ground truth (first 10 rows):\n",
      " 507   -1\n",
      "818   -1\n",
      "452   -1\n",
      "368    1\n",
      "242   -1\n",
      "929    1\n",
      "262    1\n",
      "810   -1\n",
      "318   -1\n",
      "49    -1\n",
      "Name: fraud_reported, dtype: int64\n"
     ]
    }
   ],
   "source": [
    "print(\"\\nSupport Vector Machine prediction results (first 10 rows):\\n\", predict_result.prediction[0:10])\n",
    "print(\"\\nGround truth (first 10 rows):\\n\", prunelabels[0:10])"
   ]
  },
  {
   "cell_type": "code",
   "execution_count": 379,
   "id": "0106a150",
   "metadata": {},
   "outputs": [
    {
     "name": "stdout",
     "output_type": "stream",
     "text": [
      "[-1, -1, -1, -1, -1, -1, 1, -1, -1, 1, -1, -1, -1, -1, -1, -1, 1, 1, -1, -1, -1, -1, -1, 1, -1, 1, 1, 1, -1, 1, -1, -1, -1, -1, 1, 1, -1, -1, -1, -1, -1, -1, 1, 1, 1, 1, -1, 1, -1, -1, -1, 1, -1, -1, -1, 1, -1, -1, -1, -1, 1, -1, -1, -1, -1, -1, 1, -1, 1, 1, -1, -1, -1, -1, -1, 1, -1, -1, -1, 1, 1, 1, -1, -1, -1, -1, 1, -1, -1, -1, -1, 1, 1, -1, -1, -1, -1, -1, -1, -1, 1, -1, -1, 1, -1, -1, -1, -1, 1, -1, 1, -1, -1, -1, -1, -1, -1, 1, -1, -1, -1, 1, 1, -1, -1, -1, -1, -1, -1, -1, 1, -1, -1, 1, -1, -1, -1, -1, -1, -1, -1, 1, -1, -1, 1, -1, 1, -1, 1, -1, -1, -1, -1, 1, 1, -1, -1, -1, 1, -1, -1, -1, -1, -1, -1, -1, -1, -1, -1, -1, -1, -1, -1, -1, 1, -1, -1, -1, -1, -1, 1, 1, -1, -1, 1, -1, -1, -1, 1, -1, -1, -1, -1, -1, -1, -1, -1, -1, -1, 1, -1, -1, 1, 1, -1, -1, 1, -1, -1, -1, -1, 1, -1, 1, -1, -1, -1, -1, -1, 1, -1, -1, -1, -1, -1, -1, -1, -1, -1, 1, -1, -1, -1, -1, -1, -1, 1, -1, 1, 1, -1, 1, 1, -1, 1, -1, -1, -1, 1, -1]\n"
     ]
    }
   ],
   "source": [
    "#SVM can only distinguish between -1 and 1 results thus we coverted our negative values to -1 and positive values to 1\n",
    "a = predict_result.prediction.reshape(-1)\n",
    "b =[ -1 if v<0 else 1 for v in a]\n",
    "print(b)"
   ]
  },
  {
   "cell_type": "code",
   "execution_count": 380,
   "id": "779a27a5",
   "metadata": {},
   "outputs": [
    {
     "name": "stdout",
     "output_type": "stream",
     "text": [
      "\n",
      "Support Vector Machine prediction results (first 10 rows):\n",
      " [-1, -1, -1, -1, -1, -1, 1, -1, -1, 1]\n",
      "\n",
      "Ground truth (first 10 rows):\n",
      " 507   -1\n",
      "818   -1\n",
      "452   -1\n",
      "368    1\n",
      "242   -1\n",
      "929    1\n",
      "262    1\n",
      "810   -1\n",
      "318   -1\n",
      "49    -1\n",
      "Name: fraud_reported, dtype: int64\n"
     ]
    }
   ],
   "source": [
    "print(\"\\nSupport Vector Machine prediction results (first 10 rows):\\n\", b[0:10])  # b is y_pred(converted from predict_result.prediction)\n",
    "print(\"\\nGround truth (first 10 rows):\\n\", prunelabels[0:10])"
   ]
  },
  {
   "cell_type": "code",
   "execution_count": 381,
   "id": "b46d6df9",
   "metadata": {},
   "outputs": [],
   "source": [
    "from sklearn.metrics import confusion_matrix, classification_report\n",
    "#a = predict_result.prediction.reshape(-1) \n",
    "c = prunelabels "
   ]
  },
  {
   "cell_type": "code",
   "execution_count": 382,
   "id": "8ae24626",
   "metadata": {},
   "outputs": [
    {
     "data": {
      "text/plain": [
       "array([[140,  45],\n",
       "       [ 40,  25]], dtype=int64)"
      ]
     },
     "execution_count": 382,
     "metadata": {},
     "output_type": "execute_result"
    }
   ],
   "source": [
    "#Here, c is y_test and b is y_pred(converted in -1 and 1)\n",
    "confusion_matrix(b,c)"
   ]
  },
  {
   "cell_type": "code",
   "execution_count": 383,
   "id": "0425d72f",
   "metadata": {},
   "outputs": [
    {
     "name": "stdout",
     "output_type": "stream",
     "text": [
      "              precision    recall  f1-score   support\n",
      "\n",
      "          -1       0.78      0.76      0.77       185\n",
      "           1       0.36      0.38      0.37        65\n",
      "\n",
      "    accuracy                           0.66       250\n",
      "   macro avg       0.57      0.57      0.57       250\n",
      "weighted avg       0.67      0.66      0.66       250\n",
      "\n"
     ]
    }
   ],
   "source": [
    "print(classification_report(b,c))"
   ]
  }
 ],
 "metadata": {
  "kernelspec": {
   "display_name": "Python 3 (ipykernel)",
   "language": "python",
   "name": "python3"
  },
  "language_info": {
   "codemirror_mode": {
    "name": "ipython",
    "version": 3
   },
   "file_extension": ".py",
   "mimetype": "text/x-python",
   "name": "python",
   "nbconvert_exporter": "python",
   "pygments_lexer": "ipython3",
   "version": "3.11.5"
  }
 },
 "nbformat": 4,
 "nbformat_minor": 5
}
